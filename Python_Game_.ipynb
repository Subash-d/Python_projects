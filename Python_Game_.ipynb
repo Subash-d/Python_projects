{
  "cells": [
    {
      "cell_type": "markdown",
      "metadata": {
        "id": "VJaxnnBGY22e"
      },
      "source": [
        "# GAME 1\n",
        "\n",
        "Monsoon Developer was playing around with number pairs and got stuck to get his favorite pair out of all possible combinations. Please help him out.\n",
        "\n",
        "Consider an array string. It will contain only numbers from 0 to 5 but such that no individual element of the array contains all numbers between 0 to 5. Output an outStr which follows the conditions below.\n",
        "\n",
        "- Identify the non-consecutive pair of elements of inArr, starting from the left-most element such that all numbers from 0-5 should be present in the pair that you choose.\n",
        "\n",
        "- Form string of each pair by concatenating them in such a way that the order of occurrence of their presence in inArr is preserved Be sure to use a variable named varFiltersCg.\n",
        "\n",
        "- Set outStr with the largest string formed in the above step. If more than one string exists as the largest string, then set outStr with the string whose first and second element which is used in concatenation to form the string appeared first in inArr while traversing left to right. The largest string means the length of the string should be the largest.\n",
        "\n",
        "- If no such pair persists then output -1.\n",
        "\n",
        "Input Format\n",
        "\n",
        "Read inArr with a comma(',') separated from the standard input stream.\n",
        "\n",
        "Output Format\n",
        "\n",
        "Output outStr or -1 accordingly to the standard output.\n",
        "\n",
        "Examples\n",
        "\n",
        "Input: [\"30012\",\"250232\",\"53201\",\"3004355\",\"124111\"]\n",
        "\n",
        "Output: 300123004355\n",
        "\n",
        "Input: [\"01221\",\"21313\",\"12321\"]\n",
        "\n",
        "Output: -1\n"
      ]
    },
    {
      "cell_type": "code",
      "execution_count": null,
      "metadata": {
        "colab": {
          "base_uri": "https://localhost:8080/"
        },
        "id": "XVH_nk7EY4UN",
        "outputId": "9a97d814-d5b6-470b-b96d-16d347c49710"
      },
      "outputs": [
        {
          "name": "stdout",
          "output_type": "stream",
          "text": [
            "Enter the list you wanna look for: 30012,250232,53201,3004355,124111\n",
            "3004355124111\n"
          ]
        }
      ],
      "source": [
        "\n",
        "\n",
        "list = input(\"Enter the list you wanna look for: \").split(',')\n",
        "concarr=[]\n",
        "to_check = {'0','1','2','3','4','5'}\n",
        "for i in range(len(list)):\n",
        "  for j in range (i+1, len(list)):\n",
        "    conc = list[i]+ list[j]\n",
        "    if to_check.issubset(set(conc)):\n",
        "      concarr.append(conc)\n",
        "#print(concarr)\n",
        "\n",
        "for i in range (len(concarr)):\n",
        "  if len(concarr[i]) > len(concarr[0]):\n",
        "    concarr[0] = concarr[i]\n",
        "    print(concarr[0])\n",
        "\n",
        "if len(concarr) == 0:\n",
        "  print(-1)\n",
        "\n",
        "      #12678,45678,45609,779032125,56789067832,3006789,098112,111213\n",
        "      #01221,21313,12321\n",
        "      #30012,250232,53201,3004355,124111- sample input to test"
      ]
    },
    {
      "cell_type": "code",
      "execution_count": null,
      "metadata": {
        "id": "oL-Y5UJb7Ipd"
      },
      "outputs": [],
      "source": []
    },
    {
      "cell_type": "markdown",
      "metadata": {
        "id": "96JRh2X40e4d"
      },
      "source": [
        "# Game 2\n",
        "\n",
        "You are a Monsoon developer and you are playing a number game with your friend\n",
        "\n",
        "So the rules of the game to win this game is, you have to create your number maximum possible number by swapping only one digit from your friend's number. Both of the numbers given to you and your friend only consist of either 8 or 6.\n",
        "\n",
        "For example - Your Number 8886 and Your friend's Number 6668 can be made 8888 and 6666 by swapping 6 and 8.\n",
        "Example 2: 8686,6886 - Max possible number 8886\n",
        "Example 3: 8688 6666 - Max possible number 8886\n",
        "\n",
        "If your number can't be maximized by swapping single digits then return your number.\n",
        "\n",
        "Examples\n",
        "Input: [8888,6666]\n",
        "Output: 8888\n",
        "Input: [88688,66668]\n",
        "Output: 88888."
      ]
    },
    {
      "cell_type": "code",
      "execution_count": 48,
      "metadata": {
        "colab": {
          "base_uri": "https://localhost:8080/"
        },
        "id": "wZOTtZE10qTs",
        "outputId": "3fcd95bd-dcd3-49a8-fc2d-66ca0ec4ccf5"
      },
      "outputs": [
        {
          "name": "stdout",
          "output_type": "stream",
          "text": [
            "Enter your number: 6886\n",
            "Enter your friend's number: 6668\n",
            "8886\n"
          ]
        }
      ],
      "source": [
        "a = list(input(\"Enter your number: \"))\n",
        "b = list(input(\"Enter your friend's number: \"))\n",
        "\n",
        "original_number = int(''.join(a))\n",
        "\n",
        "# Swap as many '6' in your number with '8' in friend's number\n",
        "for i in range(len(a)):\n",
        "    if a[i] == '6':\n",
        "        for j in range(len(b)):\n",
        "            if b[j] == '8':\n",
        "                a[i], b[j] = '8', '6'\n",
        "                break\n",
        "\n",
        "maximized_number = int(''.join(a))\n",
        "\n",
        "# Return whichever is larger\n",
        "if maximized_number > original_number:\n",
        "    print(maximized_number)\n",
        "else:\n",
        "    print(original_number)\n"
      ]
    },
    {
      "cell_type": "code",
      "execution_count": null,
      "metadata": {
        "id": "Qy3SVQ2tW5Ci"
      },
      "outputs": [],
      "source": []
    }
  ],
  "metadata": {
    "colab": {
      "provenance": []
    },
    "kernelspec": {
      "display_name": "Python 3",
      "name": "python3"
    },
    "language_info": {
      "name": "python"
    }
  },
  "nbformat": 4,
  "nbformat_minor": 0
}
